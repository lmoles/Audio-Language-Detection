{
 "cells": [
  {
   "cell_type": "code",
   "execution_count": 223,
   "metadata": {},
   "outputs": [],
   "source": [
    "import numpy as np\n",
    "import scipy\n",
    "from scipy.io import wavfile\n",
    "from scipy import signal\n",
    "from pydub import AudioSegment\n",
    "import tensorflow as tf\n",
    "from tensorflow import keras"
   ]
  },
  {
   "cell_type": "code",
   "execution_count": 178,
   "metadata": {},
   "outputs": [],
   "source": [
    "path = 'sample_audio/'\n",
    "filename = 'divinecomedy_longfellow_01.wav'\n",
    "filename_it = 'divinacommedia_01.wav'"
   ]
  },
  {
   "cell_type": "code",
   "execution_count": 183,
   "metadata": {},
   "outputs": [],
   "source": [
    "''' Convert wav file to TFRecord of short clips\n",
    "INPUT\n",
    "    file_in: location of wav file\n",
    "    file_out: destination for TFRecord output\n",
    "    lang: language identifier, must be int\n",
    "        currently using 0=en, 1=it\n",
    "    seconds: length of each clip\n",
    "OUTPUT\n",
    "    None, writes file to destination\n",
    "'''\n",
    "def wav2TFRecord(file_in, file_out, lang, seconds=3):\n",
    "    \n",
    "    # read data and get sampling rate\n",
    "    fs, read = wavfile.read(file_in)\n",
    "    data = read.copy()\n",
    "    \n",
    "    # collapse channels into one (in case using stereo)\n",
    "    data = np.mean(data, axis=1)\n",
    "    \n",
    "    # define time interval in samp. rate units\n",
    "    time_break = fs * seconds\n",
    "    \n",
    "    # pad data to break evenly when splitting\n",
    "    pad = time_break - (len(data) % time_break)\n",
    "    data = np.pad(data, (0,pad), mode='constant', constant_values=0)\n",
    "    \n",
    "    # reshape into (n_samples, data_per_samle)\n",
    "    # each row is a sample\n",
    "    data = data.reshape((len(data)//time_break, time_break))\n",
    "    \n",
    "    # write data to TFRecord with compression\n",
    "    options = tf.io.TFRecordOptions(compression_type='GZIP')\n",
    "    with tf.io.TFRecordWriter(file_out, options=options) as writer:\n",
    "        \n",
    "        # for each clip\n",
    "        ## create spectrogram\n",
    "        ## convert to feature formatted TF Example\n",
    "        ## write to file\n",
    "        for i,row in enumerate(data):\n",
    "            freq, time, sxx = signal.spectrogram(row, fs)\n",
    "            example = tf.train.Example(\n",
    "                features=tf.train.Features(feature={\n",
    "                    'frequency':tf.train.Feature(\n",
    "                        float_list=tf.train.FloatList(value=freq)\n",
    "                    ),\n",
    "                    'time':tf.train.Feature(\n",
    "                        float_list=tf.train.FloatList(value=time)\n",
    "                    ),\n",
    "                    'sxx':tf.train.Feature(\n",
    "                        float_list=tf.train.FloatList(value=sxx.flatten())\n",
    "                    ),\n",
    "                    'language':tf.train.Feature(\n",
    "                        int64_list=tf.train.Int64List(value=[lang])\n",
    "                    )\n",
    "                })\n",
    "            )\n",
    "            writer.write(example.SerializeToString())"
   ]
  },
  {
   "cell_type": "code",
   "execution_count": 160,
   "metadata": {},
   "outputs": [],
   "source": [
    "# sample for function usage\n",
    "#wav2TFRecord(path+filename, 'sample_audio/example_zip.tfrecord', 0)"
   ]
  },
  {
   "cell_type": "code",
   "execution_count": 184,
   "metadata": {},
   "outputs": [],
   "source": [
    "#wav2TFRecord(path+filename_it, 'sample_audio/example_it_zip.tfrecord', 1)"
   ]
  },
  {
   "cell_type": "code",
   "execution_count": 214,
   "metadata": {},
   "outputs": [],
   "source": [
    "# filenames of all records\n",
    "filenames = ['sample_audio/example_zip.tfrecord',\n",
    "            'sample_audio/example_it_zip.tfrecord']\n",
    "\n",
    "# feature dict used to parse records\n",
    "feature_description = {\n",
    "    'frequency': tf.io.FixedLenFeature([129], tf.float32),\n",
    "    'time': tf.io.FixedLenFeature([295], tf.float32),\n",
    "    'sxx': tf.io.FixedLenFeature([38055], tf.float32),\n",
    "    'language': tf.io.FixedLenFeature([1], tf.int64)\n",
    "}\n",
    "\n",
    "# function to parse record\n",
    "## takes in encoded TFRecord entry\n",
    "## returns  tuple: (sxx reshaped into 2-d array, language label)\n",
    "def parse_data(record):\n",
    "    parsed = tf.io.parse_single_example(record, feature_description)\n",
    "    sxx = parsed['sxx']\n",
    "    sxx = tf.reshape(\n",
    "        sxx, \n",
    "        (len(parsed['frequency']), len(parsed['time']))\n",
    "    )\n",
    "    lang = parsed['language']\n",
    "    return (sxx, lang)\n",
    "\n",
    "# use function to parse records into dataset\n",
    "dataset = tf.data.TFRecordDataset(\n",
    "    filenames,\n",
    "    compression_type='GZIP'\n",
    ").map(\n",
    "    parse_data\n",
    ").shuffle(\n",
    "    buffer_size=1000,\n",
    "    reshuffle_each_iteration=False\n",
    ")"
   ]
  },
  {
   "cell_type": "code",
   "execution_count": 216,
   "metadata": {},
   "outputs": [
    {
     "data": {
      "text/plain": [
       "1566"
      ]
     },
     "execution_count": 216,
     "metadata": {},
     "output_type": "execute_result"
    }
   ],
   "source": [
    "# get total number or samples for splitting\n",
    "n_samples = 0\n",
    "for item in dataset:\n",
    "    n_samples += 1\n",
    "n_samples"
   ]
  },
  {
   "cell_type": "code",
   "execution_count": 218,
   "metadata": {},
   "outputs": [],
   "source": [
    "# define splits\n",
    "train_split = int(0.7*n_samples)\n",
    "val_split = int(0.15*n_samples)\n",
    "test_split = int(0.15*n_samples)\n",
    "\n",
    "# batch size\n",
    "batch_size = 16\n",
    "\n",
    "# split into train, val, test\n",
    "train_ds = dataset.take(train_split).batch(batch_size)\n",
    "test_ds = dataset.skip(train_split)\n",
    "val_ds = test_ds.take(val_split).batch(batch_size)\n",
    "test_ds = test_ds.skip(val_split).batch(batch_size)"
   ]
  },
  {
   "cell_type": "code",
   "execution_count": 222,
   "metadata": {},
   "outputs": [
    {
     "name": "stdout",
     "output_type": "stream",
     "text": [
      "(16, 129, 295)\n",
      "(16, 129, 295)\n"
     ]
    }
   ],
   "source": [
    "# verify shape\n",
    "for i,j in train_ds.take(2):\n",
    "    print(i.shape)"
   ]
  },
  {
   "cell_type": "code",
   "execution_count": 225,
   "metadata": {},
   "outputs": [
    {
     "name": "stdout",
     "output_type": "stream",
     "text": [
      "Model: \"model\"\n",
      "_________________________________________________________________\n",
      "Layer (type)                 Output Shape              Param #   \n",
      "=================================================================\n",
      "input_1 (InputLayer)         [(None, 129, 295, 1)]     0         \n",
      "_________________________________________________________________\n",
      "conv2d (Conv2D)              (None, 129, 295, 32)      8224      \n",
      "_________________________________________________________________\n",
      "re_lu (ReLU)                 (None, 129, 295, 32)      0         \n",
      "_________________________________________________________________\n",
      "max_pooling2d (MaxPooling2D) (None, 65, 148, 32)       0         \n",
      "_________________________________________________________________\n",
      "flatten (Flatten)            (None, 307840)            0         \n",
      "_________________________________________________________________\n",
      "dense (Dense)                (None, 2)                 615682    \n",
      "=================================================================\n",
      "Total params: 623,906\n",
      "Trainable params: 623,906\n",
      "Non-trainable params: 0\n",
      "_________________________________________________________________\n"
     ]
    }
   ],
   "source": [
    "keras.backend.clear_session()\n",
    "\n",
    "inputs = keras.Input(shape=[129,295,1])\n",
    "x = keras.layers.Conv2D(32, 16, padding='same')(inputs)\n",
    "x = keras.layers.ReLU()(x)\n",
    "x = keras.layers.MaxPooling2D((2,2), padding='same')(x)\n",
    "x = keras.layers.Flatten()(x)\n",
    "x = keras.layers.Dense(2, activation='softmax')(x)\n",
    "\n",
    "model = keras.Model(inputs=inputs, outputs=x)\n",
    "\n",
    "model.summary()"
   ]
  },
  {
   "cell_type": "code",
   "execution_count": 227,
   "metadata": {},
   "outputs": [
    {
     "name": "stdout",
     "output_type": "stream",
     "text": [
      "Epoch 1/3\n",
      "20/20 [==============================] - 46s 2s/step - loss: 21.0854 - accuracy: 0.9698 - val_loss: 147.9135 - val_accuracy: 0.8846\n",
      "Epoch 2/3\n",
      "20/20 [==============================] - 42s 2s/step - loss: 77.8321 - accuracy: 0.9112 - val_loss: 93.8743 - val_accuracy: 0.8803\n",
      "Epoch 3/3\n",
      "20/20 [==============================] - 41s 2s/step - loss: 30.8783 - accuracy: 0.8843 - val_loss: 54.8753 - val_accuracy: 0.9103\n"
     ]
    },
    {
     "data": {
      "text/plain": [
       "<tensorflow.python.keras.callbacks.History at 0x1a3450ed070>"
      ]
     },
     "execution_count": 227,
     "metadata": {},
     "output_type": "execute_result"
    }
   ],
   "source": [
    "model.compile(\n",
    "    optimizer=keras.optimizers.Adam(),\n",
    "    loss='sparse_categorical_crossentropy',\n",
    "    metrics=['accuracy']\n",
    ")\n",
    "\n",
    "model.fit(train_ds, epochs=3, validation_data=val_ds, steps_per_epoch=20)"
   ]
  },
  {
   "cell_type": "code",
   "execution_count": 228,
   "metadata": {},
   "outputs": [
    {
     "name": "stdout",
     "output_type": "stream",
     "text": [
      "15/15 [==============================] - 7s 162ms/step - loss: 30.8737 - accuracy: 0.9280\n"
     ]
    },
    {
     "data": {
      "text/plain": [
       "[30.87372589111328, 0.9279661178588867]"
      ]
     },
     "execution_count": 228,
     "metadata": {},
     "output_type": "execute_result"
    }
   ],
   "source": [
    "model.evaluate(test_ds)"
   ]
  },
  {
   "cell_type": "code",
   "execution_count": 233,
   "metadata": {},
   "outputs": [],
   "source": [
    "for i,j in test_ds.take(1):\n",
    "    pred = model.predict(i)\n",
    "    true_label = j"
   ]
  },
  {
   "cell_type": "code",
   "execution_count": 234,
   "metadata": {},
   "outputs": [
    {
     "data": {
      "text/plain": [
       "array([[0., 1.],\n",
       "       [0., 1.],\n",
       "       [1., 0.],\n",
       "       [0., 1.],\n",
       "       [1., 0.],\n",
       "       [1., 0.],\n",
       "       [0., 1.],\n",
       "       [1., 0.],\n",
       "       [0., 1.],\n",
       "       [0., 1.],\n",
       "       [0., 1.],\n",
       "       [0., 1.],\n",
       "       [0., 1.],\n",
       "       [0., 1.],\n",
       "       [1., 0.],\n",
       "       [0., 1.]], dtype=float32)"
      ]
     },
     "execution_count": 234,
     "metadata": {},
     "output_type": "execute_result"
    }
   ],
   "source": [
    "pred"
   ]
  },
  {
   "cell_type": "code",
   "execution_count": 235,
   "metadata": {},
   "outputs": [
    {
     "data": {
      "text/plain": [
       "<tf.Tensor: shape=(16, 1), dtype=int64, numpy=\n",
       "array([[1],\n",
       "       [1],\n",
       "       [0],\n",
       "       [1],\n",
       "       [0],\n",
       "       [0],\n",
       "       [1],\n",
       "       [0],\n",
       "       [1],\n",
       "       [1],\n",
       "       [1],\n",
       "       [1],\n",
       "       [1],\n",
       "       [1],\n",
       "       [0],\n",
       "       [0]], dtype=int64)>"
      ]
     },
     "execution_count": 235,
     "metadata": {},
     "output_type": "execute_result"
    }
   ],
   "source": [
    "true_label"
   ]
  }
 ],
 "metadata": {
  "kernelspec": {
   "display_name": "Python 3",
   "language": "python",
   "name": "python3"
  },
  "language_info": {
   "codemirror_mode": {
    "name": "ipython",
    "version": 3
   },
   "file_extension": ".py",
   "mimetype": "text/x-python",
   "name": "python",
   "nbconvert_exporter": "python",
   "pygments_lexer": "ipython3",
   "version": "3.7.9"
  }
 },
 "nbformat": 4,
 "nbformat_minor": 4
}
