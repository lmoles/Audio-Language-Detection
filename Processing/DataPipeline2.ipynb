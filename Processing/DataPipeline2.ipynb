{
  "nbformat": 4,
  "nbformat_minor": 0,
  "metadata": {
    "kernelspec": {
      "display_name": "Python [conda env:.conda-tf_keras_tqdm]",
      "language": "python",
      "name": "conda-env-.conda-tf_keras_tqdm-py"
    },
    "language_info": {
      "codemirror_mode": {
        "name": "ipython",
        "version": 3
      },
      "file_extension": ".py",
      "mimetype": "text/x-python",
      "name": "python",
      "nbconvert_exporter": "python",
      "pygments_lexer": "ipython3",
      "version": "3.7.10"
    },
    "colab": {
      "name": "DataPipeline2_TPU.ipynb",
      "provenance": [],
      "collapsed_sections": []
    },
    "accelerator": "TPU"
  },
  "cells": [
    {
      "cell_type": "markdown",
      "metadata": {
        "id": "XYUzQu4En1Xa"
      },
      "source": [
        "Code from https://www.tensorflow.org/tutorials/audio/simple_audio    \n",
        "TPU Example https://www.kaggle.com/mgornergoogle/five-flowers-with-keras-and-xception-on-tpu#TPU-or-GPU-detection  \n",
        "Log Mel Spectrogram: https://towardsdatascience.com/how-to-easily-process-audio-on-your-gpu-with-tensorflow-2d9d91360f06"
      ]
    },
    {
      "cell_type": "code",
      "metadata": {
        "id": "A2l1uBbUn1Xc",
        "colab": {
          "base_uri": "https://localhost:8080/"
        },
        "outputId": "9d51a049-fa16-4907-999b-2e0dc665674c"
      },
      "source": [
        "import os\n",
        "import pathlib\n",
        "import time\n",
        "import re\n",
        "import matplotlib.pyplot as plt\n",
        "import numpy as np\n",
        "import seaborn as sns\n",
        "\n",
        "%tensorflow_version 2.x\n",
        "import tensorflow as tf\n",
        "print(\"Tensorflow version \" + tf.__version__)\n",
        "\n",
        "from tensorflow import keras\n",
        "from tensorflow.keras.layers.experimental import preprocessing\n",
        "from tensorflow.keras import layers\n",
        "from tensorflow.keras import models\n",
        "from IPython import display\n",
        "\n",
        "\n",
        "# Set seed for experiment reproducibility\n",
        "seed = 42\n",
        "tf.random.set_seed(seed)\n",
        "np.random.seed(seed)"
      ],
      "execution_count": 1,
      "outputs": [
        {
          "output_type": "stream",
          "text": [
            "Tensorflow version 2.4.1\n"
          ],
          "name": "stdout"
        }
      ]
    },
    {
      "cell_type": "code",
      "metadata": {
        "colab": {
          "base_uri": "https://localhost:8080/"
        },
        "id": "j8bk9cLYya8p",
        "outputId": "64adf4d0-e613-4ccb-9b5a-76741668daef"
      },
      "source": [
        "try: # detect TPUs\n",
        "    # NEW: in Tensorflow 2.4\n",
        "    tpu = tf.distribute.cluster_resolver.TPUClusterResolver.connect() \n",
        "    strategy = tf.distribute.TPUStrategy(tpu)\n",
        "except ValueError: # otherwise detect GPUs\n",
        "    strategy = tf.distribute.MirroredStrategy() # single-GPU or multi-GPU\n",
        "\n",
        "\n",
        "print(\"Number of accelerators: \", strategy.num_replicas_in_sync)"
      ],
      "execution_count": 2,
      "outputs": [
        {
          "output_type": "stream",
          "text": [
            "INFO:tensorflow:Initializing the TPU system: grpc://10.49.88.250:8470\n"
          ],
          "name": "stdout"
        },
        {
          "output_type": "stream",
          "text": [
            "INFO:tensorflow:Initializing the TPU system: grpc://10.49.88.250:8470\n"
          ],
          "name": "stderr"
        },
        {
          "output_type": "stream",
          "text": [
            "INFO:tensorflow:Clearing out eager caches\n"
          ],
          "name": "stdout"
        },
        {
          "output_type": "stream",
          "text": [
            "INFO:tensorflow:Clearing out eager caches\n"
          ],
          "name": "stderr"
        },
        {
          "output_type": "stream",
          "text": [
            "INFO:tensorflow:Finished initializing TPU system.\n"
          ],
          "name": "stdout"
        },
        {
          "output_type": "stream",
          "text": [
            "INFO:tensorflow:Finished initializing TPU system.\n"
          ],
          "name": "stderr"
        },
        {
          "output_type": "stream",
          "text": [
            "INFO:tensorflow:Found TPU system:\n"
          ],
          "name": "stdout"
        },
        {
          "output_type": "stream",
          "text": [
            "INFO:tensorflow:Found TPU system:\n"
          ],
          "name": "stderr"
        },
        {
          "output_type": "stream",
          "text": [
            "INFO:tensorflow:*** Num TPU Cores: 8\n"
          ],
          "name": "stdout"
        },
        {
          "output_type": "stream",
          "text": [
            "INFO:tensorflow:*** Num TPU Cores: 8\n"
          ],
          "name": "stderr"
        },
        {
          "output_type": "stream",
          "text": [
            "INFO:tensorflow:*** Num TPU Workers: 1\n"
          ],
          "name": "stdout"
        },
        {
          "output_type": "stream",
          "text": [
            "INFO:tensorflow:*** Num TPU Workers: 1\n"
          ],
          "name": "stderr"
        },
        {
          "output_type": "stream",
          "text": [
            "INFO:tensorflow:*** Num TPU Cores Per Worker: 8\n"
          ],
          "name": "stdout"
        },
        {
          "output_type": "stream",
          "text": [
            "INFO:tensorflow:*** Num TPU Cores Per Worker: 8\n"
          ],
          "name": "stderr"
        },
        {
          "output_type": "stream",
          "text": [
            "INFO:tensorflow:*** Available Device: _DeviceAttributes(/job:localhost/replica:0/task:0/device:CPU:0, CPU, 0, 0)\n"
          ],
          "name": "stdout"
        },
        {
          "output_type": "stream",
          "text": [
            "INFO:tensorflow:*** Available Device: _DeviceAttributes(/job:localhost/replica:0/task:0/device:CPU:0, CPU, 0, 0)\n"
          ],
          "name": "stderr"
        },
        {
          "output_type": "stream",
          "text": [
            "INFO:tensorflow:*** Available Device: _DeviceAttributes(/job:worker/replica:0/task:0/device:CPU:0, CPU, 0, 0)\n"
          ],
          "name": "stdout"
        },
        {
          "output_type": "stream",
          "text": [
            "INFO:tensorflow:*** Available Device: _DeviceAttributes(/job:worker/replica:0/task:0/device:CPU:0, CPU, 0, 0)\n"
          ],
          "name": "stderr"
        },
        {
          "output_type": "stream",
          "text": [
            "INFO:tensorflow:*** Available Device: _DeviceAttributes(/job:worker/replica:0/task:0/device:TPU:0, TPU, 0, 0)\n"
          ],
          "name": "stdout"
        },
        {
          "output_type": "stream",
          "text": [
            "INFO:tensorflow:*** Available Device: _DeviceAttributes(/job:worker/replica:0/task:0/device:TPU:0, TPU, 0, 0)\n"
          ],
          "name": "stderr"
        },
        {
          "output_type": "stream",
          "text": [
            "INFO:tensorflow:*** Available Device: _DeviceAttributes(/job:worker/replica:0/task:0/device:TPU:1, TPU, 0, 0)\n"
          ],
          "name": "stdout"
        },
        {
          "output_type": "stream",
          "text": [
            "INFO:tensorflow:*** Available Device: _DeviceAttributes(/job:worker/replica:0/task:0/device:TPU:1, TPU, 0, 0)\n"
          ],
          "name": "stderr"
        },
        {
          "output_type": "stream",
          "text": [
            "INFO:tensorflow:*** Available Device: _DeviceAttributes(/job:worker/replica:0/task:0/device:TPU:2, TPU, 0, 0)\n"
          ],
          "name": "stdout"
        },
        {
          "output_type": "stream",
          "text": [
            "INFO:tensorflow:*** Available Device: _DeviceAttributes(/job:worker/replica:0/task:0/device:TPU:2, TPU, 0, 0)\n"
          ],
          "name": "stderr"
        },
        {
          "output_type": "stream",
          "text": [
            "INFO:tensorflow:*** Available Device: _DeviceAttributes(/job:worker/replica:0/task:0/device:TPU:3, TPU, 0, 0)\n"
          ],
          "name": "stdout"
        },
        {
          "output_type": "stream",
          "text": [
            "INFO:tensorflow:*** Available Device: _DeviceAttributes(/job:worker/replica:0/task:0/device:TPU:3, TPU, 0, 0)\n"
          ],
          "name": "stderr"
        },
        {
          "output_type": "stream",
          "text": [
            "INFO:tensorflow:*** Available Device: _DeviceAttributes(/job:worker/replica:0/task:0/device:TPU:4, TPU, 0, 0)\n"
          ],
          "name": "stdout"
        },
        {
          "output_type": "stream",
          "text": [
            "INFO:tensorflow:*** Available Device: _DeviceAttributes(/job:worker/replica:0/task:0/device:TPU:4, TPU, 0, 0)\n"
          ],
          "name": "stderr"
        },
        {
          "output_type": "stream",
          "text": [
            "INFO:tensorflow:*** Available Device: _DeviceAttributes(/job:worker/replica:0/task:0/device:TPU:5, TPU, 0, 0)\n"
          ],
          "name": "stdout"
        },
        {
          "output_type": "stream",
          "text": [
            "INFO:tensorflow:*** Available Device: _DeviceAttributes(/job:worker/replica:0/task:0/device:TPU:5, TPU, 0, 0)\n"
          ],
          "name": "stderr"
        },
        {
          "output_type": "stream",
          "text": [
            "INFO:tensorflow:*** Available Device: _DeviceAttributes(/job:worker/replica:0/task:0/device:TPU:6, TPU, 0, 0)\n"
          ],
          "name": "stdout"
        },
        {
          "output_type": "stream",
          "text": [
            "INFO:tensorflow:*** Available Device: _DeviceAttributes(/job:worker/replica:0/task:0/device:TPU:6, TPU, 0, 0)\n"
          ],
          "name": "stderr"
        },
        {
          "output_type": "stream",
          "text": [
            "INFO:tensorflow:*** Available Device: _DeviceAttributes(/job:worker/replica:0/task:0/device:TPU:7, TPU, 0, 0)\n"
          ],
          "name": "stdout"
        },
        {
          "output_type": "stream",
          "text": [
            "INFO:tensorflow:*** Available Device: _DeviceAttributes(/job:worker/replica:0/task:0/device:TPU:7, TPU, 0, 0)\n"
          ],
          "name": "stderr"
        },
        {
          "output_type": "stream",
          "text": [
            "INFO:tensorflow:*** Available Device: _DeviceAttributes(/job:worker/replica:0/task:0/device:TPU_SYSTEM:0, TPU_SYSTEM, 0, 0)\n"
          ],
          "name": "stdout"
        },
        {
          "output_type": "stream",
          "text": [
            "INFO:tensorflow:*** Available Device: _DeviceAttributes(/job:worker/replica:0/task:0/device:TPU_SYSTEM:0, TPU_SYSTEM, 0, 0)\n"
          ],
          "name": "stderr"
        },
        {
          "output_type": "stream",
          "text": [
            "INFO:tensorflow:*** Available Device: _DeviceAttributes(/job:worker/replica:0/task:0/device:XLA_CPU:0, XLA_CPU, 0, 0)\n"
          ],
          "name": "stdout"
        },
        {
          "output_type": "stream",
          "text": [
            "INFO:tensorflow:*** Available Device: _DeviceAttributes(/job:worker/replica:0/task:0/device:XLA_CPU:0, XLA_CPU, 0, 0)\n"
          ],
          "name": "stderr"
        },
        {
          "output_type": "stream",
          "text": [
            "Number of accelerators:  8\n"
          ],
          "name": "stdout"
        }
      ]
    },
    {
      "cell_type": "code",
      "metadata": {
        "id": "pdxl1O2_oCFv",
        "colab": {
          "base_uri": "https://localhost:8080/"
        },
        "outputId": "2f039ad9-1d47-490f-ebac-fee77a85af4d"
      },
      "source": [
        "from google.colab import drive\n",
        "drive.mount('/content/drive')"
      ],
      "execution_count": 3,
      "outputs": [
        {
          "output_type": "stream",
          "text": [
            "Mounted at /content/drive\n"
          ],
          "name": "stdout"
        }
      ]
    },
    {
      "cell_type": "code",
      "metadata": {
        "colab": {
          "base_uri": "https://localhost:8080/"
        },
        "id": "8SznwB0r8bIV",
        "outputId": "b80fd7c9-693e-4184-b534-6ce8d73d104f"
      },
      "source": [
        "from google.colab import auth\n",
        "auth.authenticate_user()\n",
        "project_id = 'colab-tpu-310620'\n",
        "!gcloud config set project {project_id}"
      ],
      "execution_count": 4,
      "outputs": [
        {
          "output_type": "stream",
          "text": [
            "Updated property [core/project].\n"
          ],
          "name": "stdout"
        }
      ]
    },
    {
      "cell_type": "code",
      "metadata": {
        "id": "6wmjQv-t84qv",
        "colab": {
          "base_uri": "https://localhost:8080/"
        },
        "outputId": "e4245e9d-048d-4f80-82e3-14e71538c199"
      },
      "source": [
        "bucket_name = 'sys6018_audio'\n",
        "# !gsutil -m cp -r /content/drive/MyDrive/Repositories/Audio-Language-Detection/Data/ gs://{bucket_name}/segments\n",
        "!gsutil -m cp -r gs://{bucket_name}/models /content/drive/MyDrive/Repositories/Audio-Language-Detection/ "
      ],
      "execution_count": 47,
      "outputs": [
        {
          "output_type": "stream",
          "text": [
            "Copying gs://sys6018_audio/models/model1/variables/variables.index...\n",
            "Copying gs://sys6018_audio/models/model1/saved_model.pb...\n",
            "/ [0/37 files][    0.0 B/  2.6 GiB]   0% Done                                   \r/ [0/37 files][    0.0 B/  2.6 GiB]   0% Done                                   \rCopying gs://sys6018_audio/models/model1_norm/variables/variables.data-00000-of-00001...\n",
            "/ [0/37 files][    0.0 B/  2.6 GiB]   0% Done                                   \rCopying gs://sys6018_audio/models/model1_norm/saved_model.pb...\n",
            "/ [0/37 files][    0.0 B/  2.6 GiB]   0% Done                                   \rCopying gs://sys6018_audio/models/model1/variables/variables.data-00000-of-00001...\n",
            "/ [0/37 files][    0.0 B/  2.6 GiB]   0% Done                                   \rCopying gs://sys6018_audio/models/model2/saved_model.pb...\n",
            "/ [0/37 files][    0.0 B/  2.6 GiB]   0% Done                                   \rCopying gs://sys6018_audio/models/model1_norm/variables/variables.index...\n",
            "/ [0/37 files][    0.0 B/  2.6 GiB]   0% Done                                   \rCopying gs://sys6018_audio/models/model2/variables/variables.data-00000-of-00001...\n",
            "Copying gs://sys6018_audio/models/model2/variables/variables.index...\n",
            "Copying gs://sys6018_audio/models/model3/saved_model.pb...\n",
            "Copying gs://sys6018_audio/models/model3/variables/variables.data-00000-of-00001...\n",
            "Copying gs://sys6018_audio/models/model3/variables/variables.index...\n",
            "Copying gs://sys6018_audio/models/model3_4_languages/saved_model.pb...\n",
            "Copying gs://sys6018_audio/models/model3_4_languages/variables/variables.data-00000-of-00001...\n",
            "Copying gs://sys6018_audio/models/model3_4_languages/variables/variables.index...\n",
            "Copying gs://sys6018_audio/models/model3_4_languages_50 epochs/saved_model.pb...\n",
            "Copying gs://sys6018_audio/models/model3_4_languages_50 epochs/variables/variables.index...\n",
            "Copying gs://sys6018_audio/models/model3_4_languages_50 epochs/variables/variables.data-00000-of-00001...\n"
          ],
          "name": "stdout"
        }
      ]
    },
    {
      "cell_type": "code",
      "metadata": {
        "id": "hkjn0Y7en1Xd"
      },
      "source": [
        "# languages = ['en', 'it']\n",
        "# path = '../Data'\n",
        "# path = '/scratch/na5zn/Audio-Language-Detection/Data/segments'\n",
        "# path = '/content/drive/MyDrive/Repositories/Audio-Language-Detection/Data/segments'\n",
        "path = 'gs://sys6018_audio/segments'"
      ],
      "execution_count": 5,
      "outputs": []
    },
    {
      "cell_type": "code",
      "metadata": {
        "id": "RU2GzglZn1Xe",
        "colab": {
          "base_uri": "https://localhost:8080/"
        },
        "outputId": "90a04bd8-6cdb-4239-dbba-0be797628a27"
      },
      "source": [
        "commands = np.array(tf.io.gfile.listdir(path))\n",
        "commands = list(map(lambda x: x.replace('/', ''), commands))\n",
        "print('Languages:', commands)\n",
        "\n",
        "num_labels = len(commands)"
      ],
      "execution_count": 6,
      "outputs": [
        {
          "output_type": "stream",
          "text": [
            "Languages: ['de', 'en', 'it', 'sp']\n"
          ],
          "name": "stdout"
        }
      ]
    },
    {
      "cell_type": "code",
      "metadata": {
        "id": "LQETvReCn1Xg",
        "colab": {
          "base_uri": "https://localhost:8080/"
        },
        "outputId": "69037616-cba7-4dd4-bff3-e1a391477586"
      },
      "source": [
        "filenames = !gsutil ls -r gs://sys6018_audio/segments/*/*.wav\n",
        "# filenames = tf.io.gfile.glob(str(data_dir) + '/*/*.wav')\n",
        "filenames = tf.random.shuffle(filenames)\n",
        "num_samples = len(filenames)\n",
        "print('Number of total examples:', num_samples)\n",
        "print('Number of examples per label:',\n",
        "      len(tf.io.gfile.listdir(path + '/' + commands[0] + '/')))\n",
        "print('Example file tensor:', filenames[0])"
      ],
      "execution_count": 7,
      "outputs": [
        {
          "output_type": "stream",
          "text": [
            "Number of total examples: 53473\n",
            "Number of examples per label: 17940\n",
            "Example file tensor: tf.Tensor(b'gs://sys6018_audio/segments/it/divina_commedia_07_alighieri_64kb_323.wav', shape=(), dtype=string)\n"
          ],
          "name": "stdout"
        }
      ]
    },
    {
      "cell_type": "code",
      "metadata": {
        "id": "8fOfNhEGn1Xi",
        "colab": {
          "base_uri": "https://localhost:8080/"
        },
        "outputId": "d92ad537-974a-4977-fe8e-16a99fb5d2ed"
      },
      "source": [
        "# num_samples = 20\n",
        "\n",
        "train_size = int(0.7*num_samples)\n",
        "val_size = int(0.15*num_samples)\n",
        "test_size = num_samples - train_size - val_size\n",
        "\n",
        "train_files = filenames[:train_size]\n",
        "val_files = filenames[train_size: train_size + val_size]\n",
        "test_files = filenames[train_size + val_size:train_size + val_size + test_size]\n",
        "\n",
        "print('Training set size', len(train_files))\n",
        "print('Validation set size', len(val_files))\n",
        "print('Test set size', len(test_files))"
      ],
      "execution_count": 8,
      "outputs": [
        {
          "output_type": "stream",
          "text": [
            "Training set size 37431\n",
            "Validation set size 8020\n",
            "Test set size 8022\n"
          ],
          "name": "stdout"
        }
      ]
    },
    {
      "cell_type": "code",
      "metadata": {
        "id": "ALyd8899n1Xj"
      },
      "source": [
        "def decode_audio(audio_binary):\n",
        "    audio, _ = tf.audio.decode_wav(audio_binary)\n",
        "    return tf.squeeze(audio, axis=-1)"
      ],
      "execution_count": 9,
      "outputs": []
    },
    {
      "cell_type": "code",
      "metadata": {
        "id": "weZABrtwn1Xk"
      },
      "source": [
        "def get_label(file_path):\n",
        "    parts = tf.strings.split(file_path, os.path.sep)\n",
        "\n",
        "    # Note: You'll use indexing here instead of tuple unpacking to enable this \n",
        "    # to work in a TensorFlow graph.\n",
        "    return parts[-2]"
      ],
      "execution_count": 10,
      "outputs": []
    },
    {
      "cell_type": "code",
      "metadata": {
        "id": "KE4JG50Ln1Xm"
      },
      "source": [
        "def get_waveform_and_label(file_path):\n",
        "    label = get_label(file_path)\n",
        "    audio_binary = tf.io.read_file(file_path)\n",
        "    waveform = decode_audio(audio_binary)\n",
        "    return waveform, label"
      ],
      "execution_count": 11,
      "outputs": []
    },
    {
      "cell_type": "code",
      "metadata": {
        "id": "SgalkRl4n1Xp"
      },
      "source": [
        "def get_spectrogram(waveform):\n",
        "    # Padding for files with less than 16000 samples\n",
        "    print(tf.shape(waveform))\n",
        "    zero_padding = tf.zeros([66150] - tf.shape(waveform), dtype=tf.float32)\n",
        "\n",
        "    # Concatenate audio with padding so that all audio clips will be of the \n",
        "    # same length\n",
        "    waveform = tf.cast(waveform, tf.float32)\n",
        "    equal_length = tf.concat([waveform, zero_padding], 0)\n",
        "    spectrogram = tf.signal.stft(\n",
        "      equal_length, frame_length=255, frame_step=128)\n",
        "\n",
        "    spectrogram = tf.abs(spectrogram)\n",
        "\n",
        "    return spectrogram"
      ],
      "execution_count": 12,
      "outputs": []
    },
    {
      "cell_type": "code",
      "metadata": {
        "id": "0jyDetZRn1Xt"
      },
      "source": [
        "def get_spectrogram_and_label_id(audio, label):\n",
        "    spectrogram = get_spectrogram(audio)\n",
        "    spectrogram = tf.expand_dims(spectrogram, -1)\n",
        "    label_id = tf.argmax(label == commands)\n",
        "    return spectrogram, label_id"
      ],
      "execution_count": 13,
      "outputs": []
    },
    {
      "cell_type": "code",
      "metadata": {
        "id": "2DmYo7qwn1Xx"
      },
      "source": [
        "input_shape = [515, 129, 1]\n",
        "\n",
        "def reshape(audio, label):\n",
        "  return (tf.reshape(audio, input_shape), label)\n",
        "\n",
        "def preprocess_dataset(files):\n",
        "    files_ds = tf.data.Dataset.from_tensor_slices(files)\n",
        "    output_ds = files_ds.map(get_waveform_and_label, num_parallel_calls=AUTOTUNE)\n",
        "    output_ds = output_ds.map(\n",
        "        get_spectrogram_and_label_id,  num_parallel_calls=AUTOTUNE)\n",
        "    # Reshape explicitly for TPU to work\n",
        "    for spectrogram, _ in output_ds.take(1):\n",
        "      global input_shape\n",
        "      input_shape = spectrogram.shape\n",
        "      print(input_shape)\n",
        "    output_ds = output_ds.map(reshape, num_parallel_calls=AUTOTUNE)\n",
        "    return output_ds"
      ],
      "execution_count": 14,
      "outputs": []
    },
    {
      "cell_type": "code",
      "metadata": {
        "id": "bc8htRp-4wmR"
      },
      "source": [
        "BATCH_SIZE = 8 * strategy.num_replicas_in_sync\n",
        "TRAIN_STEPS = train_files.shape[0] // BATCH_SIZE\n",
        "VALIDATION_STEPS = -(-val_files.shape[0] // BATCH_SIZE)"
      ],
      "execution_count": 15,
      "outputs": []
    },
    {
      "cell_type": "code",
      "metadata": {
        "colab": {
          "base_uri": "https://localhost:8080/",
          "height": 282
        },
        "id": "ar0NhCVU2kSA",
        "outputId": "e335c556-03a2-44dc-9719-c95a59b20413"
      },
      "source": [
        "# Learning rate schedule\n",
        "\n",
        "EPOCHS = 50\n",
        "\n",
        "LR_START = 0.00010\n",
        "LR_MAX = 0.00005 * strategy.num_replicas_in_sync\n",
        "LR_MIN = 0.00001\n",
        "LR_RAMPUP_EPOCHS = 5\n",
        "LR_SUSTAIN_EPOCHS = 0\n",
        "LR_EXP_DECAY = .8\n",
        "\n",
        "def lrfn(epoch):\n",
        "    if epoch < LR_RAMPUP_EPOCHS:\n",
        "        lr = (LR_MAX - LR_START) / LR_RAMPUP_EPOCHS * epoch + LR_START\n",
        "    elif epoch < LR_RAMPUP_EPOCHS + LR_SUSTAIN_EPOCHS:\n",
        "        lr = LR_MAX\n",
        "    else:\n",
        "        lr = (LR_MAX - LR_MIN) * LR_EXP_DECAY**(epoch - LR_RAMPUP_EPOCHS - LR_SUSTAIN_EPOCHS) + LR_MIN\n",
        "    return lr\n",
        "    \n",
        "lr_callback = tf.keras.callbacks.LearningRateScheduler(lrfn, verbose=1)\n",
        "\n",
        "rng = [i for i in range(EPOCHS)]\n",
        "y = [lrfn(x) for x in rng]\n",
        "plt.plot(rng, y)\n",
        "print(\"Learning rate schedule: {:.3g} to {:.3g} to {:.3g}\".format(y[0], max(y), y[-1]))"
      ],
      "execution_count": 33,
      "outputs": [
        {
          "output_type": "stream",
          "text": [
            "Learning rate schedule: 0.0001 to 0.0004 to 1e-05\n"
          ],
          "name": "stdout"
        },
        {
          "output_type": "display_data",
          "data": {
            "image/png": "[encoded data removed]",
            "text/plain": [
              "<Figure size 432x288 with 1 Axes>"
            ]
          },
          "metadata": {
            "tags": [],
            "needs_background": "light"
          }
        }
      ]
    },
    {
      "cell_type": "code",
      "metadata": {
        "id": "H3HpDJoPn1Xy",
        "colab": {
          "base_uri": "https://localhost:8080/"
        },
        "outputId": "d35ecd39-3c3b-4946-d339-24f846ef14d8"
      },
      "source": [
        "AUTOTUNE = tf.data.AUTOTUNE\n",
        "train_ds = preprocess_dataset(train_files)\n",
        "val_ds = preprocess_dataset(val_files)\n",
        "test_ds = preprocess_dataset(test_files)"
      ],
      "execution_count": 17,
      "outputs": [
        {
          "output_type": "stream",
          "text": [
            "Tensor(\"Shape:0\", shape=(1,), dtype=int32)\n",
            "(515, 129, 1)\n",
            "Tensor(\"Shape:0\", shape=(1,), dtype=int32)\n",
            "(515, 129, 1)\n",
            "Tensor(\"Shape:0\", shape=(1,), dtype=int32)\n",
            "(515, 129, 1)\n"
          ],
          "name": "stdout"
        }
      ]
    },
    {
      "cell_type": "code",
      "metadata": {
        "id": "qR3JJgCwn1Xz"
      },
      "source": [
        "unbatched_train_ds = train_ds\n",
        "train_ds = train_ds.prefetch(AUTOTUNE).batch(BATCH_SIZE).cache().repeat()\n",
        "val_ds = val_ds.prefetch(AUTOTUNE).batch(BATCH_SIZE).cache().repeat()"
      ],
      "execution_count": 18,
      "outputs": []
    },
    {
      "cell_type": "code",
      "metadata": {
        "colab": {
          "base_uri": "https://localhost:8080/"
        },
        "id": "P8XI4Oq3tPxe",
        "outputId": "20712767-c612-40c0-9ca5-b2218c0e7d65"
      },
      "source": [
        "input_shape"
      ],
      "execution_count": 19,
      "outputs": [
        {
          "output_type": "execute_result",
          "data": {
            "text/plain": [
              "TensorShape([515, 129, 1])"
            ]
          },
          "metadata": {
            "tags": []
          },
          "execution_count": 19
        }
      ]
    },
    {
      "cell_type": "code",
      "metadata": {
        "id": "qhE-TaeBMAmd",
        "colab": {
          "base_uri": "https://localhost:8080/"
        },
        "outputId": "75c44752-1f1b-4851-91b0-693d798b9d32"
      },
      "source": [
        "keras.backend.clear_session()\n",
        "\n",
        "with strategy.scope(): # creating the model in the TPUStrategy scope means we will train the model on the TPU\n",
        "  # norm_layer = preprocessing.Normalization()\n",
        "  # norm_layer.adapt(unbatched_train_ds.map(lambda x, _: x))\n",
        "\n",
        "  model = models.Sequential([\n",
        "      layers.Input(shape=input_shape),\n",
        "      # preprocessing.Resizing(32, 32), \n",
        "      # norm_layer,\n",
        "      # model3\n",
        "      layers.Conv2D(32, (3, 3), padding='same',\n",
        "                 input_shape=input_shape),\n",
        "      layers.Activation('relu'),\n",
        "      layers.Conv2D(64, (3, 3)),\n",
        "      layers.Activation('relu'),\n",
        "      layers.MaxPooling2D(pool_size=(2, 2)),\n",
        "      layers.Dropout(0.25),\n",
        "      layers.Conv2D(64, (3, 3), padding='same'),\n",
        "      layers.Activation('relu'),\n",
        "      layers.Conv2D(64, (3, 3)),\n",
        "      layers.Activation('relu'),\n",
        "      layers.MaxPooling2D(pool_size=(2, 2)),\n",
        "      layers.Dropout(0.5),\n",
        "      layers.Conv2D(128, (3, 3), padding='same'),\n",
        "      layers.Activation('relu'),\n",
        "      layers.Conv2D(128, (3, 3)),\n",
        "      layers.Activation('relu'),\n",
        "      layers.MaxPooling2D(pool_size=(2, 2)),\n",
        "      layers.Dropout(0.5),\n",
        "      layers.Flatten(),\n",
        "      layers.Dense(512),\n",
        "      layers.Activation('relu'),\n",
        "      layers.Dropout(0.5),\n",
        "      layers.Dense(num_labels, activation='softmax')\n",
        "\n",
        "      # model2\n",
        "      # layers.Conv2D(32, 3, activation='relu'),\n",
        "      # layers.MaxPooling2D(),\n",
        "      # layers.Conv2D(64, 3, activation='relu'),\n",
        "      # layers.Conv2D(128, 3, activation='relu'),\n",
        "      # layers.MaxPooling2D(),\n",
        "      # layers.Flatten(),\n",
        "      # layers.Dense(128, activation='relu'),\n",
        "      # layers.Dropout(0.5),\n",
        "      # layers.Dense(num_labels, activation='softmax'),\n",
        "\n",
        "      # model1\n",
        "      # layers.Conv2D(32, 16, activation='relu'),\n",
        "      # layers.MaxPooling2D(),\n",
        "      # layers.Flatten(),\n",
        "      # layers.Dense(num_labels, activation='softmax'),\n",
        "  ])\n",
        "\n",
        "model.summary()"
      ],
      "execution_count": 34,
      "outputs": [
        {
          "output_type": "stream",
          "text": [
            "Model: \"sequential\"\n",
            "_________________________________________________________________\n",
            "Layer (type)                 Output Shape              Param #   \n",
            "=================================================================\n",
            "conv2d (Conv2D)              (None, 515, 129, 32)      320       \n",
            "_________________________________________________________________\n",
            "activation (Activation)      (None, 515, 129, 32)      0         \n",
            "_________________________________________________________________\n",
            "conv2d_1 (Conv2D)            (None, 513, 127, 64)      18496     \n",
            "_________________________________________________________________\n",
            "activation_1 (Activation)    (None, 513, 127, 64)      0         \n",
            "_________________________________________________________________\n",
            "max_pooling2d (MaxPooling2D) (None, 256, 63, 64)       0         \n",
            "_________________________________________________________________\n",
            "dropout (Dropout)            (None, 256, 63, 64)       0         \n",
            "_________________________________________________________________\n",
            "conv2d_2 (Conv2D)            (None, 256, 63, 64)       36928     \n",
            "_________________________________________________________________\n",
            "activation_2 (Activation)    (None, 256, 63, 64)       0         \n",
            "_________________________________________________________________\n",
            "conv2d_3 (Conv2D)            (None, 254, 61, 64)       36928     \n",
            "_________________________________________________________________\n",
            "activation_3 (Activation)    (None, 254, 61, 64)       0         \n",
            "_________________________________________________________________\n",
            "max_pooling2d_1 (MaxPooling2 (None, 127, 30, 64)       0         \n",
            "_________________________________________________________________\n",
            "dropout_1 (Dropout)          (None, 127, 30, 64)       0         \n",
            "_________________________________________________________________\n",
            "conv2d_4 (Conv2D)            (None, 127, 30, 128)      73856     \n",
            "_________________________________________________________________\n",
            "activation_4 (Activation)    (None, 127, 30, 128)      0         \n",
            "_________________________________________________________________\n",
            "conv2d_5 (Conv2D)            (None, 125, 28, 128)      147584    \n",
            "_________________________________________________________________\n",
            "activation_5 (Activation)    (None, 125, 28, 128)      0         \n",
            "_________________________________________________________________\n",
            "max_pooling2d_2 (MaxPooling2 (None, 62, 14, 128)       0         \n",
            "_________________________________________________________________\n",
            "dropout_2 (Dropout)          (None, 62, 14, 128)       0         \n",
            "_________________________________________________________________\n",
            "flatten (Flatten)            (None, 111104)            0         \n",
            "_________________________________________________________________\n",
            "dense (Dense)                (None, 512)               56885760  \n",
            "_________________________________________________________________\n",
            "activation_6 (Activation)    (None, 512)               0         \n",
            "_________________________________________________________________\n",
            "dropout_3 (Dropout)          (None, 512)               0         \n",
            "_________________________________________________________________\n",
            "dense_1 (Dense)              (None, 4)                 2052      \n",
            "=================================================================\n",
            "Total params: 57,201,924\n",
            "Trainable params: 57,201,924\n",
            "Non-trainable params: 0\n",
            "_________________________________________________________________\n"
          ],
          "name": "stdout"
        }
      ]
    },
    {
      "cell_type": "code",
      "metadata": {
        "id": "Fdhq0cmXn1X1"
      },
      "source": [
        "model.compile(\n",
        "  optimizer=tf.keras.optimizers.Adam(lr=0.0001, epsilon=0.1),\n",
        "  loss=tf.keras.losses.SparseCategoricalCrossentropy(from_logits=True),\n",
        "  metrics=['accuracy'],\n",
        "  steps_per_execution=8\n",
        ")"
      ],
      "execution_count": 35,
      "outputs": []
    },
    {
      "cell_type": "code",
      "metadata": {
        "id": "FhtzbNhgn1X2",
        "colab": {
          "base_uri": "https://localhost:8080/"
        },
        "outputId": "a8f9709b-b315-43f9-e7be-abdbb5268dd5"
      },
      "source": [
        "history = model.fit(\n",
        "    train_ds, \n",
        "    validation_data=val_ds,  \n",
        "    epochs=EPOCHS,\n",
        "    steps_per_epoch=TRAIN_STEPS, \n",
        "    validation_steps=VALIDATION_STEPS,\n",
        "    callbacks=[tf.keras.callbacks.EarlyStopping(verbose=1, patience=5)]\n",
        "    # callbacks=[lr_callback, tf.keras.callbacks.EarlyStopping(verbose=1, patience=5)]\n",
        ")"
      ],
      "execution_count": 36,
      "outputs": [
        {
          "output_type": "stream",
          "text": [
            "Epoch 1/50\n",
            "584/584 [==============================] - 50s 86ms/step - loss: 1.3703 - accuracy: 0.2750 - val_loss: 1.3184 - val_accuracy: 0.3444\n",
            "Epoch 2/50\n",
            "584/584 [==============================] - 40s 68ms/step - loss: 1.2943 - accuracy: 0.3555 - val_loss: 1.2943 - val_accuracy: 0.3741\n",
            "Epoch 3/50\n",
            "584/584 [==============================] - 34s 59ms/step - loss: 1.2576 - accuracy: 0.4029 - val_loss: 1.2430 - val_accuracy: 0.4296\n",
            "Epoch 4/50\n",
            "584/584 [==============================] - 34s 59ms/step - loss: 1.2002 - accuracy: 0.4289 - val_loss: 1.1771 - val_accuracy: 0.4522\n",
            "Epoch 5/50\n",
            "584/584 [==============================] - 35s 59ms/step - loss: 1.1525 - accuracy: 0.4477 - val_loss: 1.1440 - val_accuracy: 0.4675\n",
            "Epoch 6/50\n",
            "584/584 [==============================] - 34s 59ms/step - loss: 1.1273 - accuracy: 0.4641 - val_loss: 1.1186 - val_accuracy: 0.4879\n",
            "Epoch 7/50\n",
            "584/584 [==============================] - 34s 59ms/step - loss: 1.1063 - accuracy: 0.4745 - val_loss: 1.0978 - val_accuracy: 0.5096\n",
            "Epoch 8/50\n",
            "584/584 [==============================] - 35s 59ms/step - loss: 1.0880 - accuracy: 0.4813 - val_loss: 1.0763 - val_accuracy: 0.5241\n",
            "Epoch 9/50\n",
            "584/584 [==============================] - 34s 59ms/step - loss: 1.0662 - accuracy: 0.4996 - val_loss: 1.0579 - val_accuracy: 0.5354\n",
            "Epoch 10/50\n",
            "584/584 [==============================] - 35s 59ms/step - loss: 1.0528 - accuracy: 0.5085 - val_loss: 1.0399 - val_accuracy: 0.5485\n",
            "Epoch 11/50\n",
            "584/584 [==============================] - 35s 59ms/step - loss: 1.0316 - accuracy: 0.5216 - val_loss: 1.0252 - val_accuracy: 0.5616\n",
            "Epoch 12/50\n",
            "584/584 [==============================] - 34s 59ms/step - loss: 1.0178 - accuracy: 0.5303 - val_loss: 1.0017 - val_accuracy: 0.5711\n",
            "Epoch 13/50\n",
            "584/584 [==============================] - 34s 59ms/step - loss: 0.9978 - accuracy: 0.5444 - val_loss: 0.9837 - val_accuracy: 0.5873\n",
            "Epoch 14/50\n",
            "584/584 [==============================] - 34s 59ms/step - loss: 0.9753 - accuracy: 0.5586 - val_loss: 0.9626 - val_accuracy: 0.6113\n",
            "Epoch 15/50\n",
            "584/584 [==============================] - 35s 59ms/step - loss: 0.9542 - accuracy: 0.5739 - val_loss: 0.9475 - val_accuracy: 0.6284\n",
            "Epoch 16/50\n",
            "584/584 [==============================] - 35s 59ms/step - loss: 0.9373 - accuracy: 0.5923 - val_loss: 0.9235 - val_accuracy: 0.6394\n",
            "Epoch 17/50\n",
            "584/584 [==============================] - 35s 59ms/step - loss: 0.9152 - accuracy: 0.6076 - val_loss: 0.9096 - val_accuracy: 0.6499\n",
            "Epoch 18/50\n",
            "584/584 [==============================] - 34s 59ms/step - loss: 0.8904 - accuracy: 0.6250 - val_loss: 0.8900 - val_accuracy: 0.6612\n",
            "Epoch 19/50\n",
            "584/584 [==============================] - 35s 59ms/step - loss: 0.8735 - accuracy: 0.6357 - val_loss: 0.8725 - val_accuracy: 0.6631\n",
            "Epoch 20/50\n",
            "584/584 [==============================] - 34s 59ms/step - loss: 0.8511 - accuracy: 0.6517 - val_loss: 0.8590 - val_accuracy: 0.6668\n",
            "Epoch 21/50\n",
            "584/584 [==============================] - 35s 59ms/step - loss: 0.8325 - accuracy: 0.6662 - val_loss: 0.8313 - val_accuracy: 0.6784\n",
            "Epoch 22/50\n",
            "584/584 [==============================] - 34s 59ms/step - loss: 0.8032 - accuracy: 0.6783 - val_loss: 0.8110 - val_accuracy: 0.6786\n",
            "Epoch 23/50\n",
            "584/584 [==============================] - 35s 59ms/step - loss: 0.7801 - accuracy: 0.6944 - val_loss: 0.7819 - val_accuracy: 0.6940\n",
            "Epoch 24/50\n",
            "584/584 [==============================] - 35s 59ms/step - loss: 0.7540 - accuracy: 0.7013 - val_loss: 0.7538 - val_accuracy: 0.7064\n",
            "Epoch 25/50\n",
            "584/584 [==============================] - 35s 60ms/step - loss: 0.7246 - accuracy: 0.7163 - val_loss: 0.7367 - val_accuracy: 0.7100\n",
            "Epoch 26/50\n",
            "584/584 [==============================] - 35s 59ms/step - loss: 0.6947 - accuracy: 0.7321 - val_loss: 0.7070 - val_accuracy: 0.7219\n",
            "Epoch 27/50\n",
            "584/584 [==============================] - 35s 59ms/step - loss: 0.6676 - accuracy: 0.7425 - val_loss: 0.6820 - val_accuracy: 0.7327\n",
            "Epoch 28/50\n",
            "584/584 [==============================] - 34s 59ms/step - loss: 0.6293 - accuracy: 0.7624 - val_loss: 0.6437 - val_accuracy: 0.7489\n",
            "Epoch 29/50\n",
            "584/584 [==============================] - 35s 59ms/step - loss: 0.5913 - accuracy: 0.7782 - val_loss: 0.6001 - val_accuracy: 0.7727\n",
            "Epoch 30/50\n",
            "584/584 [==============================] - 35s 59ms/step - loss: 0.5565 - accuracy: 0.7921 - val_loss: 0.5919 - val_accuracy: 0.7703\n",
            "Epoch 31/50\n",
            "584/584 [==============================] - 34s 59ms/step - loss: 0.5235 - accuracy: 0.8041 - val_loss: 0.5482 - val_accuracy: 0.7919\n",
            "Epoch 32/50\n",
            "584/584 [==============================] - 35s 59ms/step - loss: 0.4908 - accuracy: 0.8161 - val_loss: 0.5102 - val_accuracy: 0.8089\n",
            "Epoch 33/50\n",
            "584/584 [==============================] - 35s 59ms/step - loss: 0.4597 - accuracy: 0.8306 - val_loss: 0.4913 - val_accuracy: 0.8136\n",
            "Epoch 34/50\n",
            "584/584 [==============================] - 35s 59ms/step - loss: 0.4283 - accuracy: 0.8437 - val_loss: 0.4427 - val_accuracy: 0.8397\n",
            "Epoch 35/50\n",
            "584/584 [==============================] - 35s 59ms/step - loss: 0.3984 - accuracy: 0.8549 - val_loss: 0.4403 - val_accuracy: 0.8365\n",
            "Epoch 36/50\n",
            "584/584 [==============================] - 35s 59ms/step - loss: 0.3743 - accuracy: 0.8659 - val_loss: 0.4165 - val_accuracy: 0.8461\n",
            "Epoch 37/50\n",
            "584/584 [==============================] - 35s 59ms/step - loss: 0.3484 - accuracy: 0.8753 - val_loss: 0.3754 - val_accuracy: 0.8655\n",
            "Epoch 38/50\n",
            "584/584 [==============================] - 35s 59ms/step - loss: 0.3256 - accuracy: 0.8826 - val_loss: 0.3502 - val_accuracy: 0.8746\n",
            "Epoch 39/50\n",
            "584/584 [==============================] - 35s 59ms/step - loss: 0.3032 - accuracy: 0.8927 - val_loss: 0.3360 - val_accuracy: 0.8804\n",
            "Epoch 40/50\n",
            "584/584 [==============================] - 35s 59ms/step - loss: 0.2906 - accuracy: 0.8969 - val_loss: 0.3171 - val_accuracy: 0.8872\n",
            "Epoch 41/50\n",
            "584/584 [==============================] - 35s 59ms/step - loss: 0.2770 - accuracy: 0.9021 - val_loss: 0.2947 - val_accuracy: 0.8984\n",
            "Epoch 42/50\n",
            "584/584 [==============================] - 35s 59ms/step - loss: 0.2628 - accuracy: 0.9090 - val_loss: 0.2770 - val_accuracy: 0.9065\n",
            "Epoch 43/50\n",
            "584/584 [==============================] - 35s 59ms/step - loss: 0.2480 - accuracy: 0.9136 - val_loss: 0.2557 - val_accuracy: 0.9152\n",
            "Epoch 44/50\n",
            "584/584 [==============================] - 34s 59ms/step - loss: 0.2286 - accuracy: 0.9209 - val_loss: 0.2762 - val_accuracy: 0.9064\n",
            "Epoch 45/50\n",
            "584/584 [==============================] - 35s 59ms/step - loss: 0.2135 - accuracy: 0.9240 - val_loss: 0.2405 - val_accuracy: 0.9181\n",
            "Epoch 46/50\n",
            "584/584 [==============================] - 35s 59ms/step - loss: 0.2089 - accuracy: 0.9280 - val_loss: 0.2005 - val_accuracy: 0.9335\n",
            "Epoch 47/50\n",
            "584/584 [==============================] - 34s 59ms/step - loss: 0.1969 - accuracy: 0.9314 - val_loss: 0.2156 - val_accuracy: 0.9264\n",
            "Epoch 48/50\n",
            "584/584 [==============================] - 35s 59ms/step - loss: 0.1854 - accuracy: 0.9352 - val_loss: 0.1978 - val_accuracy: 0.9344\n",
            "Epoch 49/50\n",
            "584/584 [==============================] - 35s 59ms/step - loss: 0.1804 - accuracy: 0.9373 - val_loss: 0.1754 - val_accuracy: 0.9436\n",
            "Epoch 50/50\n",
            "584/584 [==============================] - 35s 59ms/step - loss: 0.1708 - accuracy: 0.9400 - val_loss: 0.1974 - val_accuracy: 0.9335\n"
          ],
          "name": "stdout"
        }
      ]
    },
    {
      "cell_type": "code",
      "metadata": {
        "id": "csmMY6jlGrrE",
        "colab": {
          "base_uri": "https://localhost:8080/"
        },
        "outputId": "c2d7fe99-5052-4dc7-faf3-e70ed84ff6c2"
      },
      "source": [
        "save_path = 'gs://sys6018_audio/models/model3_4_languages_50_epochs'\n",
        "model.save(save_path, save_format='tf')"
      ],
      "execution_count": 48,
      "outputs": [
        {
          "output_type": "stream",
          "text": [
            "INFO:tensorflow:Assets written to: gs://sys6018_audio/models/model3_4_languages_50_epochs/assets\n"
          ],
          "name": "stdout"
        },
        {
          "output_type": "stream",
          "text": [
            "INFO:tensorflow:Assets written to: gs://sys6018_audio/models/model3_4_languages_50_epochs/assets\n"
          ],
          "name": "stderr"
        }
      ]
    },
    {
      "cell_type": "code",
      "metadata": {
        "id": "wTUbcplhn1X6",
        "colab": {
          "base_uri": "https://localhost:8080/",
          "height": 265
        },
        "outputId": "73284399-c7b3-4d0e-bcf1-c3141d126174"
      },
      "source": [
        "metrics = history.history\n",
        "plt.plot(history.epoch, metrics['loss'], metrics['val_loss'])\n",
        "plt.legend(['loss', 'val_loss'])\n",
        "plt.show()"
      ],
      "execution_count": 38,
      "outputs": [
        {
          "output_type": "display_data",
          "data": {
            "image/png": "[encoded data removed]",
            "text/plain": [
              "<Figure size 432x288 with 1 Axes>"
            ]
          },
          "metadata": {
            "tags": [],
            "needs_background": "light"
          }
        }
      ]
    },
    {
      "cell_type": "code",
      "metadata": {
        "id": "wjWpHg9mn1X7"
      },
      "source": [
        "test_audio = []\n",
        "test_labels = []\n",
        "\n",
        "for audio, label in test_ds:\n",
        "    test_audio.append(audio.numpy())\n",
        "    test_labels.append(label.numpy())\n",
        "\n",
        "test_audio = np.array(test_audio)\n",
        "test_labels = np.array(test_labels)"
      ],
      "execution_count": 39,
      "outputs": []
    },
    {
      "cell_type": "code",
      "metadata": {
        "id": "MB-Xx3y9n1X7",
        "colab": {
          "base_uri": "https://localhost:8080/"
        },
        "outputId": "7aa66c68-2377-4d0d-9ec4-1e92080f3d35"
      },
      "source": [
        "# saved_model = tf.keras.models.load_model('gs://sys6018_audio/models/model3')\n",
        "start_time = time.time()\n",
        "y_pred = np.argmax(model.predict(test_audio), axis=1)\n",
        "end_time = time.time()\n",
        "speed = (end_time - start_time) / len(test_labels) * 1000\n",
        "print(f'Inference time: {speed:.1f} seconds per 1000 samples')\n",
        "\n",
        "y_true = test_labels\n",
        "test_acc = sum(y_pred == y_true) / len(y_true)\n",
        "print(f'Test set accuracy: {test_acc:.1%}')"
      ],
      "execution_count": 40,
      "outputs": [
        {
          "output_type": "stream",
          "text": [
            "Inference time: 5.2 seconds per 1000 samples\n",
            "Test set accuracy: 93.7%\n"
          ],
          "name": "stdout"
        }
      ]
    },
    {
      "cell_type": "code",
      "metadata": {
        "id": "FcgRq0Ckn1X8",
        "colab": {
          "base_uri": "https://localhost:8080/",
          "height": 497
        },
        "outputId": "eebdd690-3076-476a-956a-e10712ad8f1a"
      },
      "source": [
        "confusion_mtx = tf.math.confusion_matrix(y_true, y_pred) \n",
        "plt.figure(figsize=(10, 8))\n",
        "sns.heatmap(confusion_mtx, xticklabels=commands, yticklabels=commands, \n",
        "            annot=True, fmt='g')\n",
        "plt.xlabel('Prediction')\n",
        "plt.ylabel('Label')\n",
        "plt.show()"
      ],
      "execution_count": 41,
      "outputs": [
        {
          "output_type": "display_data",
          "data": {
            "image/png": "[encoded data removed]",
            "text/plain": [
              "<Figure size 720x576 with 2 Axes>"
            ]
          },
          "metadata": {
            "tags": [],
            "needs_background": "light"
          }
        }
      ]
    },
    {
      "cell_type": "code",
      "metadata": {
        "colab": {
          "base_uri": "https://localhost:8080/",
          "height": 606
        },
        "id": "tk2dCCvk6U70",
        "outputId": "e2347f5c-9b09-489c-ff78-8b606c2253bb"
      },
      "source": [
        "from sklearn.metrics import confusion_matrix\n",
        "\n",
        "cm = confusion_matrix(y_true, y_pred)\n",
        "# Normalise\n",
        "cmn = cm.astype('float') / cm.sum(axis=1)[:, np.newaxis]\n",
        "fig, ax = plt.subplots(figsize=(10,10))\n",
        "sns.heatmap(cmn, annot=True, fmt='.2f', xticklabels=commands, yticklabels=commands)\n",
        "plt.ylabel('Actual')\n",
        "plt.xlabel('Predicted')\n",
        "plt.show(block=False)"
      ],
      "execution_count": 46,
      "outputs": [
        {
          "output_type": "display_data",
          "data": {
            "image/png": "[encoded data removed]",
            "text/plain": [
              "<Figure size 720x720 with 2 Axes>"
            ]
          },
          "metadata": {
            "tags": [],
            "needs_background": "light"
          }
        }
      ]
    },
    {
      "cell_type": "markdown",
      "metadata": {
        "id": "WWR4iqRWQQ6J"
      },
      "source": [
        "## Get accuracy for clips grouped together\n",
        "So theoretically, a 30 second clip of audio will be 100% accurate if broken into 3 second clips and taking the mode of predictions for each clip in the group."
      ]
    },
    {
      "cell_type": "code",
      "metadata": {
        "id": "ZXLY3t1aNH-S"
      },
      "source": [
        "import pandas as pd\n",
        "df = pd.DataFrame({\"label\": y_true, \"prediction\": y_pred})"
      ],
      "execution_count": 53,
      "outputs": []
    },
    {
      "cell_type": "code",
      "metadata": {
        "id": "DqW_65EIn1X8",
        "colab": {
          "base_uri": "https://localhost:8080/"
        },
        "outputId": "f28cca71-71af-436b-be0a-f05baf7ac6ae"
      },
      "source": [
        "for l in sorted(df['label'].unique()):\n",
        "  df_sub = df[df['label'] == l]\n",
        "  df_agg = df_sub.groupby(np.arange(len(df_sub)) // 10).agg(lambda x: x.mode().to_numpy()[-1])\n",
        "  a = len(df_agg[df_agg['label'] == df_agg['prediction']])/len(df_agg)\n",
        "  print(f'Label: {l}, Accuracy: {a}')"
      ],
      "execution_count": 72,
      "outputs": [
        {
          "output_type": "stream",
          "text": [
            "Label: 0, Accuracy: 1.0\n",
            "Label: 1, Accuracy: 1.0\n",
            "Label: 2, Accuracy: 1.0\n",
            "Label: 3, Accuracy: 1.0\n"
          ],
          "name": "stdout"
        }
      ]
    },
    {
      "cell_type": "code",
      "metadata": {
        "id": "BSCrB9Gq_SjP"
      },
      "source": [
        ""
      ],
      "execution_count": null,
      "outputs": []
    },
    {
      "cell_type": "markdown",
      "metadata": {
        "id": "lUNYEr1UW-Wm"
      },
      "source": [
        "## Get accuracy on test clip\n",
        "These clips were recorded by Nikki"
      ]
    },
    {
      "cell_type": "code",
      "metadata": {
        "id": "ivEgr5J0XE-3"
      },
      "source": [
        "test_path = 'gs://sys6018_audio/Test_Data/segments'"
      ],
      "execution_count": 74,
      "outputs": []
    },
    {
      "cell_type": "code",
      "metadata": {
        "colab": {
          "base_uri": "https://localhost:8080/"
        },
        "id": "I5FWV-5vXeVH",
        "outputId": "14ead6a5-0b2b-4922-bf08-2a400a640345"
      },
      "source": [
        "commands = np.array(tf.io.gfile.listdir(test_path))\n",
        "commands = list(map(lambda x: x.replace('/', ''), commands))\n",
        "print('Languages:', commands)\n",
        "\n",
        "num_labels = len(commands)"
      ],
      "execution_count": 75,
      "outputs": [
        {
          "output_type": "stream",
          "text": [
            "Languages: ['en', 'sp']\n"
          ],
          "name": "stdout"
        }
      ]
    },
    {
      "cell_type": "code",
      "metadata": {
        "colab": {
          "base_uri": "https://localhost:8080/"
        },
        "id": "rCXqCffrXeVI",
        "outputId": "09825b68-5a31-4eec-c280-94436eb1b764"
      },
      "source": [
        "filenames = !gsutil ls -r gs://sys6018_audio/Test_Data/segments/*/*.wav\n",
        "# filenames = tf.io.gfile.glob(str(data_dir) + '/*/*.wav')\n",
        "filenames = tf.random.shuffle(filenames)\n",
        "num_samples = len(filenames)\n",
        "print('Number of total examples:', num_samples)\n",
        "print('Number of examples per label:',\n",
        "      len(tf.io.gfile.listdir(path + '/' + commands[0] + '/')))\n",
        "print('Example file tensor:', filenames[0])"
      ],
      "execution_count": 76,
      "outputs": [
        {
          "output_type": "stream",
          "text": [
            "Number of total examples: 37\n",
            "Number of examples per label: 14882\n",
            "Example file tensor: tf.Tensor(b'gs://sys6018_audio/Test_Data/segments/en/test_en_21.wav', shape=(), dtype=string)\n"
          ],
          "name": "stdout"
        }
      ]
    },
    {
      "cell_type": "code",
      "metadata": {
        "colab": {
          "base_uri": "https://localhost:8080/"
        },
        "id": "qI3GRRIrYMUu",
        "outputId": "a576eb2e-1c06-48ec-82db-f6870a9afee0"
      },
      "source": [
        "test_ds = preprocess_dataset(filenames)"
      ],
      "execution_count": 77,
      "outputs": [
        {
          "output_type": "stream",
          "text": [
            "Tensor(\"Shape:0\", shape=(1,), dtype=int32)\n",
            "(515, 129, 1)\n"
          ],
          "name": "stdout"
        }
      ]
    },
    {
      "cell_type": "code",
      "metadata": {
        "id": "ZsaypYMFXFaU"
      },
      "source": [
        "test_audio = []\n",
        "test_labels = []\n",
        "\n",
        "for audio, label in test_ds:\n",
        "    test_audio.append(audio.numpy())\n",
        "    test_labels.append(label.numpy())\n",
        "\n",
        "test_audio = np.array(test_audio)\n",
        "test_labels = np.array(test_labels)\n"
      ],
      "execution_count": 78,
      "outputs": []
    },
    {
      "cell_type": "code",
      "metadata": {
        "id": "btIDrj9wap7c"
      },
      "source": [
        "# transform labels to match original dataset from training\n",
        "# label_key = {'de':0, 'en':1, 'it':2, 'sp':3}\n",
        "# test_label_key = {'en': 0, 'sp': 1}\n",
        "\n",
        "test_labels = np.where(test_labels == 1, 3, test_labels)\n",
        "test_labels = np.where(test_labels == 0, 1, test_labels)"
      ],
      "execution_count": 88,
      "outputs": []
    },
    {
      "cell_type": "code",
      "metadata": {
        "colab": {
          "base_uri": "https://localhost:8080/"
        },
        "id": "3dCs21YAXQIq",
        "outputId": "c4cc8ed2-6ba2-45e4-a60f-fb53008a5dfe"
      },
      "source": [
        "# saved_model = tf.keras.models.load_model('gs://sys6018_audio/models/model3')\n",
        "start_time = time.time()\n",
        "y_pred = np.argmax(model.predict(test_audio), axis=1)\n",
        "end_time = time.time()\n",
        "speed = (end_time - start_time) / len(test_labels) * 1000\n",
        "print(f'Inference time: {speed:.1f} seconds per 1000 samples')\n",
        "\n",
        "y_true = test_labels\n",
        "test_acc = sum(y_pred == y_true) / len(y_true)\n",
        "print(f'Test set accuracy: {test_acc:.1%}')"
      ],
      "execution_count": 89,
      "outputs": [
        {
          "output_type": "stream",
          "text": [
            "Inference time: 17.4 seconds per 1000 samples\n",
            "Test set accuracy: 59.5%\n"
          ],
          "name": "stdout"
        }
      ]
    },
    {
      "cell_type": "code",
      "metadata": {
        "colab": {
          "base_uri": "https://localhost:8080/",
          "height": 640
        },
        "id": "tEQtcZLuXQIy",
        "outputId": "9bd3b087-ec6d-49bc-be5b-6fd62c919cd9"
      },
      "source": [
        "cm = confusion_matrix(y_true, y_pred)\n",
        "# Normalise\n",
        "cmn = cm.astype('float') / cm.sum(axis=1)[:, np.newaxis]\n",
        "fig, ax = plt.subplots(figsize=(10,10))\n",
        "sns.heatmap(cmn, annot=True, fmt='.2f', xticklabels=commands, yticklabels=commands)\n",
        "plt.ylabel('Actual')\n",
        "plt.xlabel('Predicted')\n",
        "plt.show(block=False)"
      ],
      "execution_count": 90,
      "outputs": [
        {
          "output_type": "stream",
          "text": [
            "/usr/local/lib/python3.7/dist-packages/ipykernel_launcher.py:3: RuntimeWarning: invalid value encountered in true_divide\n",
            "  This is separate from the ipykernel package so we can avoid doing imports until\n"
          ],
          "name": "stderr"
        },
        {
          "output_type": "display_data",
          "data": {
            "image/png": "[encoded data removed]",
            "text/plain": [
              "<Figure size 720x720 with 2 Axes>"
            ]
          },
          "metadata": {
            "tags": [],
            "needs_background": "light"
          }
        }
      ]
    },
    {
      "cell_type": "code",
      "metadata": {
        "colab": {
          "base_uri": "https://localhost:8080/"
        },
        "id": "i38VZvX-XFdi",
        "outputId": "db90bb05-39e6-4636-bb1b-a8a1188c35b8"
      },
      "source": [
        "y_pred"
      ],
      "execution_count": 85,
      "outputs": [
        {
          "output_type": "execute_result",
          "data": {
            "text/plain": [
              "array([1, 2, 1, 1, 1, 1, 1, 1, 1, 1, 1, 1, 1, 1, 1, 1, 2, 1, 1, 1, 1, 1,\n",
              "       1, 1, 1, 1, 1, 1, 1, 1, 1, 1, 1, 1, 1, 1, 1])"
            ]
          },
          "metadata": {
            "tags": []
          },
          "execution_count": 85
        }
      ]
    },
    {
      "cell_type": "code",
      "metadata": {
        "colab": {
          "base_uri": "https://localhost:8080/"
        },
        "id": "aSI-kj2MXmy-",
        "outputId": "2b05aadc-0529-4684-cdbf-b99008fd8bed"
      },
      "source": [
        "y_true"
      ],
      "execution_count": 86,
      "outputs": [
        {
          "output_type": "execute_result",
          "data": {
            "text/plain": [
              "array([1, 3, 3, 1, 3, 1, 3, 1, 1, 1, 1, 3, 1, 3, 1, 3, 1, 3, 1, 1, 3, 1,\n",
              "       1, 1, 3, 3, 3, 1, 3, 1, 3, 1, 1, 1, 1, 1, 1])"
            ]
          },
          "metadata": {
            "tags": []
          },
          "execution_count": 86
        }
      ]
    },
    {
      "cell_type": "markdown",
      "metadata": {
        "id": "lu9j0HP1QgAw"
      },
      "source": [
        "## Get predictions from Google Cloud AI"
      ]
    },
    {
      "cell_type": "code",
      "metadata": {
        "colab": {
          "base_uri": "https://localhost:8080/"
        },
        "id": "Wt2oNjCT_Slj",
        "outputId": "d6ac67b6-15fe-4dfb-f834-119939b42442"
      },
      "source": [
        "! pip install google-api-python-client"
      ],
      "execution_count": null,
      "outputs": [
        {
          "output_type": "stream",
          "text": [
            "Requirement already satisfied: google-api-python-client in /usr/local/lib/python3.7/dist-packages (1.12.8)\n",
            "Requirement already satisfied: google-auth>=1.16.0 in /usr/local/lib/python3.7/dist-packages (from google-api-python-client) (1.28.1)\n",
            "Requirement already satisfied: google-auth-httplib2>=0.0.3 in /usr/local/lib/python3.7/dist-packages (from google-api-python-client) (0.0.4)\n",
            "Requirement already satisfied: uritemplate<4dev,>=3.0.0 in /usr/local/lib/python3.7/dist-packages (from google-api-python-client) (3.0.1)\n",
            "Requirement already satisfied: httplib2<1dev,>=0.15.0 in /usr/local/lib/python3.7/dist-packages (from google-api-python-client) (0.17.4)\n",
            "Requirement already satisfied: google-api-core<2dev,>=1.21.0 in /usr/local/lib/python3.7/dist-packages (from google-api-python-client) (1.26.3)\n",
            "Requirement already satisfied: six<2dev,>=1.13.0 in /usr/local/lib/python3.7/dist-packages (from google-api-python-client) (1.15.0)\n",
            "Requirement already satisfied: pyasn1-modules>=0.2.1 in /usr/local/lib/python3.7/dist-packages (from google-auth>=1.16.0->google-api-python-client) (0.2.8)\n",
            "Requirement already satisfied: setuptools>=40.3.0 in /usr/local/lib/python3.7/dist-packages (from google-auth>=1.16.0->google-api-python-client) (56.0.0)\n",
            "Requirement already satisfied: cachetools<5.0,>=2.0.0 in /usr/local/lib/python3.7/dist-packages (from google-auth>=1.16.0->google-api-python-client) (4.2.1)\n",
            "Requirement already satisfied: rsa<5,>=3.1.4; python_version >= \"3.6\" in /usr/local/lib/python3.7/dist-packages (from google-auth>=1.16.0->google-api-python-client) (4.7.2)\n",
            "Requirement already satisfied: protobuf>=3.12.0 in /usr/local/lib/python3.7/dist-packages (from google-api-core<2dev,>=1.21.0->google-api-python-client) (3.12.4)\n",
            "Requirement already satisfied: requests<3.0.0dev,>=2.18.0 in /usr/local/lib/python3.7/dist-packages (from google-api-core<2dev,>=1.21.0->google-api-python-client) (2.23.0)\n",
            "Requirement already satisfied: packaging>=14.3 in /usr/local/lib/python3.7/dist-packages (from google-api-core<2dev,>=1.21.0->google-api-python-client) (20.9)\n",
            "Requirement already satisfied: pytz in /usr/local/lib/python3.7/dist-packages (from google-api-core<2dev,>=1.21.0->google-api-python-client) (2018.9)\n",
            "Requirement already satisfied: googleapis-common-protos<2.0dev,>=1.6.0 in /usr/local/lib/python3.7/dist-packages (from google-api-core<2dev,>=1.21.0->google-api-python-client) (1.53.0)\n",
            "Requirement already satisfied: pyasn1<0.5.0,>=0.4.6 in /usr/local/lib/python3.7/dist-packages (from pyasn1-modules>=0.2.1->google-auth>=1.16.0->google-api-python-client) (0.4.8)\n",
            "Requirement already satisfied: chardet<4,>=3.0.2 in /usr/local/lib/python3.7/dist-packages (from requests<3.0.0dev,>=2.18.0->google-api-core<2dev,>=1.21.0->google-api-python-client) (3.0.4)\n",
            "Requirement already satisfied: urllib3!=1.25.0,!=1.25.1,<1.26,>=1.21.1 in /usr/local/lib/python3.7/dist-packages (from requests<3.0.0dev,>=2.18.0->google-api-core<2dev,>=1.21.0->google-api-python-client) (1.24.3)\n",
            "Requirement already satisfied: certifi>=2017.4.17 in /usr/local/lib/python3.7/dist-packages (from requests<3.0.0dev,>=2.18.0->google-api-core<2dev,>=1.21.0->google-api-python-client) (2020.12.5)\n",
            "Requirement already satisfied: idna<3,>=2.5 in /usr/local/lib/python3.7/dist-packages (from requests<3.0.0dev,>=2.18.0->google-api-core<2dev,>=1.21.0->google-api-python-client) (2.10)\n",
            "Requirement already satisfied: pyparsing>=2.0.2 in /usr/local/lib/python3.7/dist-packages (from packaging>=14.3->google-api-core<2dev,>=1.21.0->google-api-python-client) (2.4.7)\n"
          ],
          "name": "stdout"
        }
      ]
    },
    {
      "cell_type": "code",
      "metadata": {
        "colab": {
          "base_uri": "https://localhost:8080/",
          "height": 710
        },
        "id": "3m0b-U0S_XYN",
        "outputId": "89133edd-3047-4112-902c-29d797efd4c2"
      },
      "source": [
        "! pip install --upgrade google-api-python-client oauth2client"
      ],
      "execution_count": null,
      "outputs": [
        {
          "output_type": "stream",
          "text": [
            "Collecting google-api-python-client\n",
            "\u001b[?25l  Downloading https://files.pythonhosted.org/packages/5f/02/ae0c3aa746e2f9574727875e5110700a51f2aa1877c98b78433ad76630aa/google_api_python_client-2.2.0-py2.py3-none-any.whl (7.0MB)\n",
            "\u001b[K     |████████████████████████████████| 7.0MB 6.4MB/s \n",
            "\u001b[?25hRequirement already up-to-date: oauth2client in /usr/local/lib/python3.7/dist-packages (4.1.3)\n",
            "Requirement already satisfied, skipping upgrade: google-auth<2dev,>=1.16.0 in /usr/local/lib/python3.7/dist-packages (from google-api-python-client) (1.28.1)\n",
            "Requirement already satisfied, skipping upgrade: uritemplate<4dev,>=3.0.0 in /usr/local/lib/python3.7/dist-packages (from google-api-python-client) (3.0.1)\n",
            "Requirement already satisfied, skipping upgrade: google-api-core<2dev,>=1.21.0 in /usr/local/lib/python3.7/dist-packages (from google-api-python-client) (1.26.3)\n",
            "Collecting google-auth-httplib2>=0.1.0\n",
            "  Downloading https://files.pythonhosted.org/packages/ba/db/721e2f3f32339080153995d16e46edc3a7657251f167ddcb9327e632783b/google_auth_httplib2-0.1.0-py2.py3-none-any.whl\n",
            "Requirement already satisfied, skipping upgrade: six<2dev,>=1.13.0 in /usr/local/lib/python3.7/dist-packages (from google-api-python-client) (1.15.0)\n",
            "Requirement already satisfied, skipping upgrade: httplib2<1dev,>=0.15.0 in /usr/local/lib/python3.7/dist-packages (from google-api-python-client) (0.17.4)\n",
            "Requirement already satisfied, skipping upgrade: pyasn1-modules>=0.0.5 in /usr/local/lib/python3.7/dist-packages (from oauth2client) (0.2.8)\n",
            "Requirement already satisfied, skipping upgrade: rsa>=3.1.4 in /usr/local/lib/python3.7/dist-packages (from oauth2client) (4.7.2)\n",
            "Requirement already satisfied, skipping upgrade: pyasn1>=0.1.7 in /usr/local/lib/python3.7/dist-packages (from oauth2client) (0.4.8)\n",
            "Requirement already satisfied, skipping upgrade: cachetools<5.0,>=2.0.0 in /usr/local/lib/python3.7/dist-packages (from google-auth<2dev,>=1.16.0->google-api-python-client) (4.2.1)\n",
            "Requirement already satisfied, skipping upgrade: setuptools>=40.3.0 in /usr/local/lib/python3.7/dist-packages (from google-auth<2dev,>=1.16.0->google-api-python-client) (56.0.0)\n",
            "Requirement already satisfied, skipping upgrade: requests<3.0.0dev,>=2.18.0 in /usr/local/lib/python3.7/dist-packages (from google-api-core<2dev,>=1.21.0->google-api-python-client) (2.23.0)\n",
            "Requirement already satisfied, skipping upgrade: protobuf>=3.12.0 in /usr/local/lib/python3.7/dist-packages (from google-api-core<2dev,>=1.21.0->google-api-python-client) (3.12.4)\n",
            "Requirement already satisfied, skipping upgrade: pytz in /usr/local/lib/python3.7/dist-packages (from google-api-core<2dev,>=1.21.0->google-api-python-client) (2018.9)\n",
            "Requirement already satisfied, skipping upgrade: googleapis-common-protos<2.0dev,>=1.6.0 in /usr/local/lib/python3.7/dist-packages (from google-api-core<2dev,>=1.21.0->google-api-python-client) (1.53.0)\n",
            "Requirement already satisfied, skipping upgrade: packaging>=14.3 in /usr/local/lib/python3.7/dist-packages (from google-api-core<2dev,>=1.21.0->google-api-python-client) (20.9)\n",
            "Requirement already satisfied, skipping upgrade: urllib3!=1.25.0,!=1.25.1,<1.26,>=1.21.1 in /usr/local/lib/python3.7/dist-packages (from requests<3.0.0dev,>=2.18.0->google-api-core<2dev,>=1.21.0->google-api-python-client) (1.24.3)\n",
            "Requirement already satisfied, skipping upgrade: certifi>=2017.4.17 in /usr/local/lib/python3.7/dist-packages (from requests<3.0.0dev,>=2.18.0->google-api-core<2dev,>=1.21.0->google-api-python-client) (2020.12.5)\n",
            "Requirement already satisfied, skipping upgrade: idna<3,>=2.5 in /usr/local/lib/python3.7/dist-packages (from requests<3.0.0dev,>=2.18.0->google-api-core<2dev,>=1.21.0->google-api-python-client) (2.10)\n",
            "Requirement already satisfied, skipping upgrade: chardet<4,>=3.0.2 in /usr/local/lib/python3.7/dist-packages (from requests<3.0.0dev,>=2.18.0->google-api-core<2dev,>=1.21.0->google-api-python-client) (3.0.4)\n",
            "Requirement already satisfied, skipping upgrade: pyparsing>=2.0.2 in /usr/local/lib/python3.7/dist-packages (from packaging>=14.3->google-api-core<2dev,>=1.21.0->google-api-python-client) (2.4.7)\n",
            "\u001b[31mERROR: earthengine-api 0.1.260 has requirement google-api-python-client<2,>=1.12.1, but you'll have google-api-python-client 2.2.0 which is incompatible.\u001b[0m\n",
            "Installing collected packages: google-auth-httplib2, google-api-python-client\n",
            "  Found existing installation: google-auth-httplib2 0.0.4\n",
            "    Uninstalling google-auth-httplib2-0.0.4:\n",
            "      Successfully uninstalled google-auth-httplib2-0.0.4\n",
            "  Found existing installation: google-api-python-client 1.12.8\n",
            "    Uninstalling google-api-python-client-1.12.8:\n",
            "      Successfully uninstalled google-api-python-client-1.12.8\n",
            "Successfully installed google-api-python-client-2.2.0 google-auth-httplib2-0.1.0\n"
          ],
          "name": "stdout"
        },
        {
          "output_type": "display_data",
          "data": {
            "application/vnd.colab-display-data+json": {
              "pip_warning": {
                "packages": [
                  "google_auth_httplib2",
                  "googleapiclient"
                ]
              }
            }
          },
          "metadata": {
            "tags": []
          }
        }
      ]
    },
    {
      "cell_type": "code",
      "metadata": {
        "id": "gRdwMjpZ-1Q0"
      },
      "source": [
        "\n"
      ],
      "execution_count": null,
      "outputs": []
    },
    {
      "cell_type": "code",
      "metadata": {
        "colab": {
          "base_uri": "https://localhost:8080/"
        },
        "id": "aFyX4SJW-1Tb",
        "outputId": "f5d3a628-7e6c-4bcd-8371-af784f53ca57"
      },
      "source": [
        "import googleapiclient.discovery\n",
        "from google.api_core.client_options import ClientOptions\n",
        "\n",
        "# the service account private key!\n",
        "# you don't want to paste this into a public notebook...\n",
        "os.environ[\"GOOGLE_APPLICATION_CREDENTIALS\"] = '/content/vaulted-bivouac-311919-46d68238fb31.json'\n",
        "\n",
        "# https://cloud.google.com/ai-platform/prediction/docs/regional-endpoints\n",
        "endpoint = 'https://us-east4-ml.googleapis.com'\n",
        "client_options = ClientOptions(api_endpoint=endpoint)\n",
        "# region could matter \n",
        "# Under NaviMenu > AI Platform > Models\n",
        "# my \"Endpoint\" is us-east4-ml\n",
        "\n",
        "# this finds the model_path\n",
        "ml_resource = googleapiclient.discovery.build(\"ml\", \"v1\", client_options=client_options, cache_discovery=False).projects()\n",
        "# https://stackoverflow.com/questions/40154672/importerror-file-cache-is-unavailable-when-using-python-client-for-google-ser\n",
        "client_options"
      ],
      "execution_count": null,
      "outputs": [
        {
          "output_type": "execute_result",
          "data": {
            "text/plain": [
              "ClientOptions: {'api_endpoint': 'https://us-east4-ml.googleapis.com', 'client_cert_source': None, 'client_encrypted_cert_source': None, 'quota_project_id': None, 'credentials_file': None, 'scopes': None}"
            ]
          },
          "metadata": {
            "tags": []
          },
          "execution_count": 41
        }
      ]
    },
    {
      "cell_type": "code",
      "metadata": {
        "colab": {
          "base_uri": "https://localhost:8080/"
        },
        "id": "b6cRad7S-1WS",
        "outputId": "3bc3aa4b-d8eb-4d1e-c92b-164530563202"
      },
      "source": [
        "import sys\n",
        "instances = []\n",
        "for i,j in test_ds.take(1):\n",
        "    input_data = i.numpy().tolist()\n",
        "    instances.append(input_data)\n",
        "\n",
        "prediction_data = {\"instances\": instances}"
      ],
      "execution_count": null,
      "outputs": [
        {
          "output_type": "stream",
          "text": [
            "4192\n"
          ],
          "name": "stdout"
        }
      ]
    },
    {
      "cell_type": "code",
      "metadata": {
        "colab": {
          "base_uri": "https://localhost:8080/"
        },
        "id": "yXtVugl2Si9S",
        "outputId": "33e73318-6fa6-4082-a07f-503a8668f488"
      },
      "source": [
        "print(sys.getsizeof(prediction_data))"
      ],
      "execution_count": null,
      "outputs": [
        {
          "output_type": "stream",
          "text": [
            "248\n"
          ],
          "name": "stdout"
        }
      ]
    },
    {
      "cell_type": "code",
      "metadata": {
        "id": "MPwMgUtJ-1YW"
      },
      "source": [
        "project_id = \"vaulted-bivouac-311919\" # change this to your project ID\n",
        "model_id = \"AudioClassificationTensorFlow\" # named in GCP\n",
        "model_ver = \"model003\" # named in GCP\n",
        "model_path = \"projects/{}/models/{}/versions/{}\".format(project_id, model_id, model_ver)\n",
        "print(model_path)\n",
        "\n",
        "request = ml_resource.predict(name=model_path, body=prediction_data)\n",
        "response = request.execute()  "
      ],
      "execution_count": null,
      "outputs": []
    },
    {
      "cell_type": "code",
      "metadata": {
        "colab": {
          "base_uri": "https://localhost:8080/"
        },
        "id": "7c1thJV2-1bO",
        "outputId": "b24cbb20-739d-4456-80c4-7e3c4b628142"
      },
      "source": [
        "response"
      ],
      "execution_count": null,
      "outputs": [
        {
          "output_type": "execute_result",
          "data": {
            "text/plain": [
              "{'predictions': [[1.57841828e-14, 1.0]]}"
            ]
          },
          "metadata": {
            "tags": []
          },
          "execution_count": 44
        }
      ]
    }
  ]
}