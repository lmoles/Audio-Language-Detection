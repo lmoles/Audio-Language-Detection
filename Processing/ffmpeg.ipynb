{
 "cells": [
  {
   "cell_type": "code",
   "execution_count": 5,
   "metadata": {},
   "outputs": [
    {
     "name": "stdout",
     "output_type": "stream",
     "text": [
      "Collecting pydub\n",
      "  Using cached pydub-0.25.1-py2.py3-none-any.whl (32 kB)\n",
      "Installing collected packages: pydub\n",
      "Successfully installed pydub-0.25.1\n"
     ]
    }
   ],
   "source": [
    "#!pip install ffmpeg-python\n",
    "!pip install pydub"
   ]
  },
  {
   "cell_type": "code",
   "execution_count": null,
   "metadata": {},
   "outputs": [],
   "source": [
    "from pydub import AudioSegment\n",
    "import glob, os"
   ]
  },
  {
   "cell_type": "code",
   "execution_count": null,
   "metadata": {},
   "outputs": [],
   "source": [
    "languages = ['en', 'it']\n",
    "path = '/scratch/na5zn/Audio-Language-Detection/Data'"
   ]
  },
  {
   "cell_type": "code",
   "execution_count": 20,
   "metadata": {},
   "outputs": [],
   "source": [
    "# Convert to wav format\n",
    "for language in languages:\n",
    "    for file in glob.glob(f'{path}/{language}/*.mp3'):\n",
    "        sound = AudioSegment.from_mp3(file)\n",
    "        sound.export(f'{file[:-4]}.wav', format=\"wav\")"
   ]
  },
  {
   "cell_type": "code",
   "execution_count": null,
   "metadata": {},
   "outputs": [],
   "source": [
    "# Break into 3 second samples\n",
    "for language in languages:\n",
    "    for file in glob.glob(f'{path}/{language}/*.wav'):\n",
    "        print(file)\n",
    "        chapter = AudioSegment.from_wav(file)\n",
    "        for i, chunk in enumerate(chapter[::3000]):\n",
    "            with open(f'{path}/{language}/segments/{os.path.basename(file)[:-4]}_{i}.wav', \"wb\") as f:\n",
    "                chunk.export(f, format=\"wav\")"
   ]
  },
  {
   "cell_type": "code",
   "execution_count": null,
   "metadata": {},
   "outputs": [],
   "source": []
  }
 ],
 "metadata": {
  "kernelspec": {
   "display_name": "Python [conda env:.conda-ffmpeg]",
   "language": "python",
   "name": "conda-env-.conda-ffmpeg-py"
  },
  "language_info": {
   "codemirror_mode": {
    "name": "ipython",
    "version": 3
   },
   "file_extension": ".py",
   "mimetype": "text/x-python",
   "name": "python",
   "nbconvert_exporter": "python",
   "pygments_lexer": "ipython3",
   "version": "3.8.8"
  }
 },
 "nbformat": 4,
 "nbformat_minor": 4
}
